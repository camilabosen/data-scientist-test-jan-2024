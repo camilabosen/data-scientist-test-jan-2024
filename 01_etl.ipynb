{
 "cells": [
  {
   "cell_type": "code",
   "execution_count": null,
   "metadata": {},
   "outputs": [],
   "source": [
    "\"\"\"\n",
    "    Instruções:\n",
    "        1- Download dos dados municipais do estado de Minas Gerais;\n",
    "        2- Transformação dos dados de desmatamento;\n",
    "        3- Processamento dos dados:\n",
    "            -reprojeção para EPSG:31983;\n",
    "            -cálculo de área;\n",
    "        4- Geração dos arquivos de saída no formato GeoJSON;\n",
    "\"\"\""
   ]
  },
  {
   "cell_type": "code",
   "execution_count": 8,
   "metadata": {
    "tags": []
   },
   "outputs": [],
   "source": [
    "import requests\n",
    "import pandas as pd\n",
    "import geopandas as gpd\n",
    "from pyproj import CRS\n",
    "import os\n",
    "\n",
    "# URL do dataset de municípios de Minas Gerais\n",
    "url = 'https://raw.githubusercontent.com/tbrugz/geodata-br/master/geojson/geojs-31-mun.json'\n",
    "gdf = gpd.read_file(url)\n",
    "\n",
    "# Focos de desmatamento para agosto\n",
    "file_path_ago22 = 'dados/desmatamento_ago22.gpkg'\n",
    "gdf_ago22 = gpd.read_file(file_path_ago22)\n",
    "\n",
    "# Focos de desmatamento para setembro\n",
    "file_path_set22 = 'dados/desmatamento_set22.gpkg'\n",
    "gdf_set22 = gpd.read_file(file_path_set22)\n",
    "\n",
    "# Juntar os GeoDataFrames (Agosto e Setembro de 2022)\n",
    "gdf_combined = pd.concat([gdf_ago22, gdf_set22], ignore_index=True)\n",
    "\n",
    "# Projeção EPSG:31983 (desmatamento)\n",
    "target_crs = CRS.from_epsg(31983)\n",
    "gdf_combined = gdf_combined.to_crs(target_crs)\n",
    "\n",
    "# Projeção EPSG:31983 (Municípios) \n",
    "target_crs = CRS.from_epsg(31983)\n",
    "gdf = gdf.to_crs(target_crs)\n"
   ]
  }
 ],
 "metadata": {
  "kernelspec": {
   "display_name": "Python 3 (ipykernel)",
   "language": "python",
   "name": "python3"
  },
  "language_info": {
   "codemirror_mode": {
    "name": "ipython",
    "version": 3
   },
   "file_extension": ".py",
   "mimetype": "text/x-python",
   "name": "python",
   "nbconvert_exporter": "python",
   "pygments_lexer": "ipython3",
   "version": "3.11.5"
  }
 },
 "nbformat": 4,
 "nbformat_minor": 4
}
