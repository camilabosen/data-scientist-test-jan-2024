{
 "cells": [
  {
   "cell_type": "code",
   "execution_count": null,
   "metadata": {},
   "outputs": [],
   "source": [
    "\"\"\"\n",
    "    Instruções:\n",
    "        1- Download dos dados municipais do estado de Minas Gerais;\n",
    "        2- Transformação dos dados de desmatamento;\n",
    "        3- Processamento dos dados:\n",
    "            -reprojeção para EPSG:31983;\n",
    "            -cálculo de área;\n",
    "        4- Geração dos arquivos de saída no formato GeoJSON;\n",
    "\"\"\""
   ]
  },
  {
   "cell_type": "code",
   "execution_count": 8,
   "metadata": {
    "tags": []
   },
   "outputs": [],
   "source": [
    "import requests\n",
    "import pandas as pd\n",
    "import geopandas as gpd\n",
    "from pyproj import CRS\n",
    "import os\n",
    "\n",
    "# URL do dataset de municípios de Minas Gerais\n",
    "url = 'https://raw.githubusercontent.com/tbrugz/geodata-br/master/geojson/geojs-31-mun.json'\n",
    "gdf = gpd.read_file(url)\n",
    "\n",
    "# Focos de desmatamento para agosto\n",
    "file_path_ago22 = 'dados/desmatamento_ago22.gpkg'\n",
    "gdf_ago22 = gpd.read_file(file_path_ago22)\n",
    "\n",
    "# Focos de desmatamento para setembro\n",
    "file_path_set22 = 'dados/desmatamento_set22.gpkg'\n",
    "gdf_set22 = gpd.read_file(file_path_set22)\n",
    "\n",
    "# Juntar os GeoDataFrames (Agosto e Setembro de 2022)\n",
    "gdf_combined = pd.concat([gdf_ago22, gdf_set22], ignore_index=True)\n",
    "\n",
    "# Projeção EPSG:31983 (desmatamento)\n",
    "target_crs = CRS.from_epsg(31983)\n",
    "gdf_combined = gdf_combined.to_crs(target_crs)\n",
    "\n",
    "# Projeção EPSG:31983 (Municípios) \n",
    "target_crs = CRS.from_epsg(31983)\n",
    "gdf = gdf.to_crs(target_crs)\n",
    "\n",
    "# Adicione uma coluna com a área em km² dos municípios\n",
    "gdf['area_km2'] = gdf['geometry'].area / 1e6  # Converter de m² para km²\n",
    "\n",
    "# Diretório para salvar o GeoJSON (Municípios)\n",
    "output_directory_municipios = 'dados'\n",
    "output_geojson_filename_municipios = 'municipios-mg.geojson'\n",
    "output_geojson_path_municipios = os.path.join(output_directory_municipios, output_geojson_filename_municipios)\n",
    "gdf.to_file(output_geojson_path_municipios, driver='GeoJSON')\n",
    "print(f\"GeoJSON de Municípios salvo em {output_geojson_path_municipios}\")\n",
    "\n",
    "# Diretório para salvar o GeoJSON (Desmatamento)\n",
    "output_directory_desmatamento = 'dados'\n",
    "output_geojson_filename_desmatamento = 'focos-desmatamento-mg.geojson'\n",
    "output_geojson_path_desmatamento = os.path.join(output_directory_desmatamento, output_geojson_filename_desmatamento)\n",
    "gdf_combined.to_file(output_geojson_path_desmatamento, driver='GeoJSON')\n",
    "print(f\"GeoJSON de Desmatamento salvo em {output_geojson_path_desmatamento}\")\n"
   ]
  }
 ],
 "metadata": {
  "kernelspec": {
   "display_name": "Python 3 (ipykernel)",
   "language": "python",
   "name": "python3"
  },
  "language_info": {
   "codemirror_mode": {
    "name": "ipython",
    "version": 3
   },
   "file_extension": ".py",
   "mimetype": "text/x-python",
   "name": "python",
   "nbconvert_exporter": "python",
   "pygments_lexer": "ipython3",
   "version": "3.11.5"
  }
 },
 "nbformat": 4,
 "nbformat_minor": 4
}
